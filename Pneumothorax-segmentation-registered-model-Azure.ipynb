{
 "cells": [
  {
   "cell_type": "code",
   "execution_count": 1,
   "id": "e9fb3583-51a6-4c16-8f35-75993e916f12",
   "metadata": {},
   "outputs": [
    {
     "data": {
      "text/plain": [
       "'\\npip install -U -q segmentation-models\\npip install opencv-python\\npip install azureml-automl-core\\n'"
      ]
     },
     "execution_count": 1,
     "metadata": {},
     "output_type": "execute_result"
    }
   ],
   "source": [
    "'''\n",
    "pip install -U -q segmentation-models\n",
    "pip install opencv-python\n",
    "pip install azureml-automl-core\n",
    "'''"
   ]
  },
  {
   "cell_type": "code",
   "execution_count": 2,
   "id": "cdbb6390-c990-48a7-b31e-743b2a401d1e",
   "metadata": {},
   "outputs": [
    {
     "name": "stdout",
     "output_type": "stream",
     "text": [
      "Segmentation Models: using `keras` framework.\n"
     ]
    }
   ],
   "source": [
    "import tensorflow as tf\n",
    "import segmentation_models as sm\n",
    "import glob\n",
    "import cv2\n",
    "import os\n",
    "import numpy as np\n",
    "from matplotlib import pyplot as plt"
   ]
  },
  {
   "cell_type": "code",
   "execution_count": 3,
   "id": "c2913b49-ff8b-41b2-9a29-efb39d4d8006",
   "metadata": {},
   "outputs": [
    {
     "name": "stdout",
     "output_type": "stream",
     "text": [
      "2.9.1\n"
     ]
    }
   ],
   "source": [
    "print(tf. __version__)"
   ]
  },
  {
   "cell_type": "code",
   "execution_count": 4,
   "id": "6a95ef01-5729-4e55-b5ec-bd3870bbf873",
   "metadata": {},
   "outputs": [],
   "source": [
    "from azureml.core import Experiment\n",
    "from azureml.core import Model\n",
    "import pandas as pd\n",
    "import numpy as np\n",
    "import joblib\n",
    "from sklearn.model_selection import train_test_split\n",
    "from sklearn.tree import DecisionTreeClassifier\n",
    "from sklearn.metrics import roc_auc_score\n",
    "from sklearn.metrics import roc_curve"
   ]
  },
  {
   "cell_type": "code",
   "execution_count": 5,
   "id": "7fb3261d-a8f7-43bb-974a-a924ef4a1dd8",
   "metadata": {},
   "outputs": [],
   "source": [
    "from azureml.core import Run"
   ]
  },
  {
   "cell_type": "code",
   "execution_count": 6,
   "id": "63120c88-73e8-4257-a69a-21527a75ecf6",
   "metadata": {},
   "outputs": [
    {
     "name": "stdout",
     "output_type": "stream",
     "text": [
      "Ready to use Azure ML 1.44.0 to work with mlmodel\n"
     ]
    }
   ],
   "source": [
    "import azureml.core\n",
    "from azureml.core import Workspace\n",
    "\n",
    "# Load the workspace from the saved config file\n",
    "ws = Workspace.from_config()\n",
    "print('Ready to use Azure ML {} to work with {}'.format(azureml.core.VERSION, ws.name))"
   ]
  },
  {
   "cell_type": "code",
   "execution_count": 7,
   "id": "19ae1e83-f506-41d2-bf6b-646eb34ed389",
   "metadata": {},
   "outputs": [
    {
     "name": "stdout",
     "output_type": "stream",
     "text": [
      "Starting experiment: mslearn-train\n"
     ]
    }
   ],
   "source": [
    "# Create an Azure ML experiment in your workspace\n",
    "experiment = Experiment(workspace=ws, name=\"mslearn-train\")\n",
    "run = experiment.start_logging()\n",
    "print(\"Starting experiment:\", experiment.name)"
   ]
  },
  {
   "cell_type": "code",
   "execution_count": 8,
   "id": "0cec4e5f-0b57-488f-9bd1-db3fc814fc4d",
   "metadata": {},
   "outputs": [],
   "source": [
    "BACKBONE = 'resnet34'\n",
    "preprocess_input = sm.get_preprocessing(BACKBONE)"
   ]
  },
  {
   "cell_type": "code",
   "execution_count": 9,
   "id": "96ae180e-449f-4d68-a65f-f39e2f11ea27",
   "metadata": {},
   "outputs": [],
   "source": [
    "SIZE_X = 128 #Resize images (height  = X, width = Y)\n",
    "SIZE_Y = 128"
   ]
  },
  {
   "cell_type": "code",
   "execution_count": 10,
   "id": "48a29783-c74d-4a09-82bf-33ee36de5181",
   "metadata": {},
   "outputs": [
    {
     "name": "stdout",
     "output_type": "stream",
     "text": [
      "/mnt/batch/tasks/shared/LS_root/mounts/clusters/segmodel/code/dataset\n"
     ]
    }
   ],
   "source": [
    "cd /home/azureuser/cloudfiles/code/dataset"
   ]
  },
  {
   "cell_type": "code",
   "execution_count": 11,
   "id": "96fd999d-2c55-43a2-aaac-69b9f55c971f",
   "metadata": {},
   "outputs": [
    {
     "name": "stdout",
     "output_type": "stream",
     "text": [
      "\u001b[0m\u001b[01;32mIoU.png\u001b[0m*          \u001b[01;32mUntitled2.ipynb\u001b[0m*  \u001b[01;32mseg-accuracy.png\u001b[0m*  \u001b[34;42msegmentation_service\u001b[0m/\n",
      "\u001b[01;32mUntitled.ipynb\u001b[0m*   \u001b[01;32mloss.png\u001b[0m*         \u001b[01;32mseg-loss.png\u001b[0m*      \u001b[34;42mtest\u001b[0m/\n",
      "\u001b[01;32mUntitled1.ipynb\u001b[0m*  \u001b[01;32mseg-IoU.png\u001b[0m*      \u001b[01;32mseg_model-1.h5\u001b[0m*    \u001b[34;42mtrain\u001b[0m/\n"
     ]
    }
   ],
   "source": [
    "ls"
   ]
  },
  {
   "cell_type": "code",
   "execution_count": 12,
   "id": "281b2816-3ff0-428f-93a1-26e1a31280d9",
   "metadata": {},
   "outputs": [
    {
     "name": "stdout",
     "output_type": "stream",
     "text": [
      "(9568, 128, 128)\n"
     ]
    }
   ],
   "source": [
    "# Prepare training raw chest X-ray data\n",
    "train_images = []\n",
    "for directory_path in glob.glob('train/raw_images/images'):\n",
    "    for img_path in glob.glob(os.path.join(directory_path, \"*.png\")):\n",
    "        #print(img_path)\n",
    "        img = cv2.imread(img_path, cv2.IMREAD_COLOR)       \n",
    "        img = cv2.resize(img, (SIZE_Y, SIZE_X))\n",
    "        img = cv2.cvtColor(img, cv2.COLOR_RGB2GRAY)\n",
    "        train_images.append(img)\n",
    "\n",
    "        #train_labels.append(label)\n",
    "#Convert list to array for machine learning processing        \n",
    "train_images = np.array(train_images)\n",
    "print(train_images.shape)"
   ]
  },
  {
   "cell_type": "code",
   "execution_count": 13,
   "id": "6640d11b-7d1a-48c9-908e-d171f8cc887d",
   "metadata": {},
   "outputs": [
    {
     "name": "stdout",
     "output_type": "stream",
     "text": [
      "(9568, 128, 128)\n"
     ]
    }
   ],
   "source": [
    "# Prepare training mask data\n",
    "train_masks = [] \n",
    "for directory_path in glob.glob('train/mask_images/images'):\n",
    "    for mask_path in glob.glob(os.path.join(directory_path, \"*.png\")):\n",
    "        mask = cv2.imread(mask_path, 0)\n",
    "        mask = cv2.resize(mask, (SIZE_Y, SIZE_X))\n",
    "        #mask = cv2.cvtColor(mask, cv2.COLOR_RGB2BGR)\n",
    "        train_masks.append(mask)\n",
    "        \n",
    "        #train_labels.append(label)\n",
    "#Convert list to array for machine learning processing          \n",
    "train_masks = np.array(train_masks)\n",
    "print(train_masks.shape)"
   ]
  },
  {
   "cell_type": "code",
   "execution_count": 14,
   "id": "eb55400d-2c65-40d8-90dc-7737e80a42db",
   "metadata": {},
   "outputs": [],
   "source": [
    "#Use customary x_train and y_train variables\n",
    "X = train_images\n",
    "Y = train_masks"
   ]
  },
  {
   "cell_type": "code",
   "execution_count": 15,
   "id": "776efe15-9a3e-4a43-bbe8-8aaa3289e344",
   "metadata": {},
   "outputs": [],
   "source": [
    "X = np.expand_dims(X, axis=3)\n",
    "Y = np.expand_dims(Y, axis=3)"
   ]
  },
  {
   "cell_type": "code",
   "execution_count": 16,
   "id": "7a9c08bb-506f-4d64-b26a-eadc2f5b136f",
   "metadata": {},
   "outputs": [],
   "source": [
    "from sklearn.model_selection import train_test_split\n",
    "x_train, x_val, y_train, y_val = train_test_split(X, Y, test_size=0.3, random_state=42)"
   ]
  },
  {
   "cell_type": "code",
   "execution_count": 17,
   "id": "24c3f693-1474-4953-b426-7aa100883add",
   "metadata": {},
   "outputs": [],
   "source": [
    "# preprocess input\n",
    "x_train = preprocess_input(x_train)\n",
    "x_val = preprocess_input(x_val)"
   ]
  },
  {
   "cell_type": "code",
   "execution_count": 18,
   "id": "892e23b7-4ec8-46a0-8ef0-fce4ee190394",
   "metadata": {},
   "outputs": [],
   "source": [
    "from tensorflow.keras.layers import Input, Conv2D, MaxPooling2D, Dropout, concatenate, UpSampling2D, Conv2DTranspose\n",
    "from tensorflow.keras.optimizers import Adam\n",
    "from tensorflow.keras.regularizers import l2\n",
    "from tensorflow.keras.preprocessing.image import ImageDataGenerator\n",
    "from tensorflow.keras.callbacks import ModelCheckpoint, LearningRateScheduler, ReduceLROnPlateau, EarlyStopping\n",
    "from tensorflow.keras.preprocessing import image\n",
    "from tensorflow.keras.models import Model"
   ]
  },
  {
   "cell_type": "code",
   "execution_count": 19,
   "id": "35a0b5e6-8bb5-4096-8c6f-9b4393fe80e4",
   "metadata": {},
   "outputs": [],
   "source": [
    "#define u-net network\n",
    "def build_unet(shape):\n",
    "    input_layer = Input(shape = shape)\n",
    "    \n",
    "    conv1 = Conv2D(32, (3, 3), activation = 'relu', padding = 'same')(input_layer)\n",
    "    conv1 = Conv2D(32, (3, 3), activation = 'relu', padding = 'same')(conv1)\n",
    "    pool1 = MaxPooling2D(pool_size = (2, 2))(conv1)\n",
    "    \n",
    "    conv2 = Conv2D(64, (3, 3), activation = 'relu', padding = 'same')(pool1)\n",
    "    conv2 = Conv2D(64, (3, 3), activation = 'relu', padding = 'same')(conv2)\n",
    "    pool2 = MaxPooling2D(pool_size = (2, 2))(conv2)\n",
    "\n",
    "    conv3 = Conv2D(128, (3, 3), activation = 'relu', padding = 'same')(pool2)\n",
    "    conv3 = Conv2D(128, (3, 3), activation = 'relu', padding = 'same')(conv3)\n",
    "    pool3 = MaxPooling2D(pool_size = (2, 2))(conv3)\n",
    "\n",
    "    conv4 = Conv2D(256, (3, 3), activation = 'relu', padding = 'same')(pool3)\n",
    "    conv4 = Conv2D(256, (3, 3), activation = 'relu', padding = 'same')(conv4)\n",
    "    pool4 = MaxPooling2D(pool_size = (2, 2))(conv4)\n",
    "\n",
    "    conv5 = Conv2D(512, (3, 3), activation = 'relu', padding = 'same')(pool4)\n",
    "    conv5 = Conv2D(512, (3, 3), activation = 'relu', padding = 'same')(conv5)\n",
    "    \n",
    "    up6 = concatenate([Conv2DTranspose(256, (2, 2), strides = (2, 2), padding = 'same')(conv5), conv4], axis = 3)\n",
    "    conv6 = Conv2D(256, (3, 3), activation = 'relu', padding = 'same')(up6)\n",
    "    conv6 = Conv2D(256, (3, 3), activation = 'relu', padding = 'same')(conv6)\n",
    "\n",
    "    up7 = concatenate([Conv2DTranspose(128, (2, 2), strides = (2, 2), padding = 'same')(conv6), conv3], axis = 3)\n",
    "    conv7 = Conv2D(128, (3, 3), activation = 'relu', padding = 'same')(up7)\n",
    "    conv7 = Conv2D(128, (3, 3), activation = 'relu', padding = 'same')(conv7)\n",
    "\n",
    "    up8 = concatenate([Conv2DTranspose(64, (2, 2), strides = (2, 2), padding = 'same')(conv7), conv2], axis = 3)\n",
    "    conv8 = Conv2D(64, (3, 3), activation = 'relu', padding = 'same')(up8)\n",
    "    conv8 = Conv2D(64, (3, 3), activation = 'relu', padding = 'same')(conv8)\n",
    "\n",
    "    up9 = concatenate([Conv2DTranspose(32, (2, 2), strides = (2, 2), padding = 'same')(conv8), conv1], axis = 3)\n",
    "    conv9 = Conv2D(32, (3, 3), activation = 'relu', padding = 'same')(up9)\n",
    "    conv9 = Conv2D(32, (3, 3), activation = 'relu', padding = 'same')(conv9)\n",
    "\n",
    "    conv10 = Conv2D(1, (1, 1), activation = 'sigmoid')(conv9)\n",
    "    \n",
    "    return Model(input_layer, conv10)"
   ]
  },
  {
   "cell_type": "code",
   "execution_count": 20,
   "id": "ec6a3abb-6e4b-4ad0-850d-fa389609456f",
   "metadata": {},
   "outputs": [
    {
     "name": "stderr",
     "output_type": "stream",
     "text": [
      "2022-08-22 22:43:10.841418: I tensorflow/core/platform/cpu_feature_guard.cc:193] This TensorFlow binary is optimized with oneAPI Deep Neural Network Library (oneDNN) to use the following CPU instructions in performance-critical operations:  AVX2 FMA\n",
      "To enable them in other operations, rebuild TensorFlow with the appropriate compiler flags.\n",
      "2022-08-22 22:43:11.581408: I tensorflow/core/common_runtime/gpu/gpu_device.cc:1532] Created device /job:localhost/replica:0/task:0/device:GPU:0 with 7434 MB memory:  -> device: 0, name: Tesla M60, pci bus id: 0001:00:00.0, compute capability: 5.2\n"
     ]
    }
   ],
   "source": [
    "# define model\n",
    "model = build_unet((128, 128, 1))"
   ]
  },
  {
   "cell_type": "code",
   "execution_count": 21,
   "id": "0a2de23d-0c89-4d74-ba8b-c5bc4b531b9e",
   "metadata": {},
   "outputs": [],
   "source": [
    "#  define dice coefficient function and dice coefficient loss function\n",
    "def dice_coef(y_true, y_pred):\n",
    "    y_true_f = K.flatten(y_true)\n",
    "    y_true_f = K.cast(y_true_f, 'float32') # new\n",
    "    y_pred_f = K.flatten(y_pred)\n",
    "    y_pred_f = K.cast(y_pred_f, 'float32') # new\n",
    "    intersection = K.sum(y_true_f * y_pred_f)\n",
    "    return (2. * intersection + K.epsilon()) / (K.sum(y_true_f) + K.sum(y_pred_f) + K.epsilon())\n",
    "\n",
    "def dice_coef_loss(y_true, y_pred):\n",
    "    return -dice_coef(y_true, y_pred)"
   ]
  },
  {
   "cell_type": "code",
   "execution_count": 22,
   "id": "7fd1928c-74a7-410e-a2b9-b513fcfbb328",
   "metadata": {},
   "outputs": [],
   "source": [
    "# define iou function for evaluate similarity of predicted mask and ground truth\n",
    "def my_iou(y_true, y_pred, smooth=1):\n",
    "    y_true_f = K.flatten(y_true)\n",
    "    y_pred = K.cast(y_pred, 'float32')\n",
    "    y_pred_f = K.cast(K.greater(K.flatten(y_pred), 0.5), 'float32')\n",
    "    intersection = y_true_f * y_pred_f\n",
    "    iou_result = ( K.sum(intersection)+1.0)/(K.sum(y_true_f)+K.sum(y_pred_f)-K.sum(intersection)+1.0)\n",
    "    return iou_result"
   ]
  },
  {
   "cell_type": "code",
   "execution_count": 23,
   "id": "c58f6211-da9e-472a-a4eb-72790eb68737",
   "metadata": {},
   "outputs": [],
   "source": [
    "from keras import backend as K"
   ]
  },
  {
   "cell_type": "code",
   "execution_count": 24,
   "id": "fb085f84-59cd-4ccb-b18c-25f3868bb07c",
   "metadata": {},
   "outputs": [
    {
     "name": "stdout",
     "output_type": "stream",
     "text": [
      "Model: \"model\"\n",
      "__________________________________________________________________________________________________\n",
      " Layer (type)                   Output Shape         Param #     Connected to                     \n",
      "==================================================================================================\n",
      " input_1 (InputLayer)           [(None, 128, 128, 1  0           []                               \n",
      "                                )]                                                                \n",
      "                                                                                                  \n",
      " conv2d (Conv2D)                (None, 128, 128, 32  320         ['input_1[0][0]']                \n",
      "                                )                                                                 \n",
      "                                                                                                  \n",
      " conv2d_1 (Conv2D)              (None, 128, 128, 32  9248        ['conv2d[0][0]']                 \n",
      "                                )                                                                 \n",
      "                                                                                                  \n",
      " max_pooling2d (MaxPooling2D)   (None, 64, 64, 32)   0           ['conv2d_1[0][0]']               \n",
      "                                                                                                  \n",
      " conv2d_2 (Conv2D)              (None, 64, 64, 64)   18496       ['max_pooling2d[0][0]']          \n",
      "                                                                                                  \n",
      " conv2d_3 (Conv2D)              (None, 64, 64, 64)   36928       ['conv2d_2[0][0]']               \n",
      "                                                                                                  \n",
      " max_pooling2d_1 (MaxPooling2D)  (None, 32, 32, 64)  0           ['conv2d_3[0][0]']               \n",
      "                                                                                                  \n",
      " conv2d_4 (Conv2D)              (None, 32, 32, 128)  73856       ['max_pooling2d_1[0][0]']        \n",
      "                                                                                                  \n",
      " conv2d_5 (Conv2D)              (None, 32, 32, 128)  147584      ['conv2d_4[0][0]']               \n",
      "                                                                                                  \n",
      " max_pooling2d_2 (MaxPooling2D)  (None, 16, 16, 128)  0          ['conv2d_5[0][0]']               \n",
      "                                                                                                  \n",
      " conv2d_6 (Conv2D)              (None, 16, 16, 256)  295168      ['max_pooling2d_2[0][0]']        \n",
      "                                                                                                  \n",
      " conv2d_7 (Conv2D)              (None, 16, 16, 256)  590080      ['conv2d_6[0][0]']               \n",
      "                                                                                                  \n",
      " max_pooling2d_3 (MaxPooling2D)  (None, 8, 8, 256)   0           ['conv2d_7[0][0]']               \n",
      "                                                                                                  \n",
      " conv2d_8 (Conv2D)              (None, 8, 8, 512)    1180160     ['max_pooling2d_3[0][0]']        \n",
      "                                                                                                  \n",
      " conv2d_9 (Conv2D)              (None, 8, 8, 512)    2359808     ['conv2d_8[0][0]']               \n",
      "                                                                                                  \n",
      " conv2d_transpose (Conv2DTransp  (None, 16, 16, 256)  524544     ['conv2d_9[0][0]']               \n",
      " ose)                                                                                             \n",
      "                                                                                                  \n",
      " concatenate (Concatenate)      (None, 16, 16, 512)  0           ['conv2d_transpose[0][0]',       \n",
      "                                                                  'conv2d_7[0][0]']               \n",
      "                                                                                                  \n",
      " conv2d_10 (Conv2D)             (None, 16, 16, 256)  1179904     ['concatenate[0][0]']            \n",
      "                                                                                                  \n",
      " conv2d_11 (Conv2D)             (None, 16, 16, 256)  590080      ['conv2d_10[0][0]']              \n",
      "                                                                                                  \n",
      " conv2d_transpose_1 (Conv2DTran  (None, 32, 32, 128)  131200     ['conv2d_11[0][0]']              \n",
      " spose)                                                                                           \n",
      "                                                                                                  \n",
      " concatenate_1 (Concatenate)    (None, 32, 32, 256)  0           ['conv2d_transpose_1[0][0]',     \n",
      "                                                                  'conv2d_5[0][0]']               \n",
      "                                                                                                  \n",
      " conv2d_12 (Conv2D)             (None, 32, 32, 128)  295040      ['concatenate_1[0][0]']          \n",
      "                                                                                                  \n",
      " conv2d_13 (Conv2D)             (None, 32, 32, 128)  147584      ['conv2d_12[0][0]']              \n",
      "                                                                                                  \n",
      " conv2d_transpose_2 (Conv2DTran  (None, 64, 64, 64)  32832       ['conv2d_13[0][0]']              \n",
      " spose)                                                                                           \n",
      "                                                                                                  \n",
      " concatenate_2 (Concatenate)    (None, 64, 64, 128)  0           ['conv2d_transpose_2[0][0]',     \n",
      "                                                                  'conv2d_3[0][0]']               \n",
      "                                                                                                  \n",
      " conv2d_14 (Conv2D)             (None, 64, 64, 64)   73792       ['concatenate_2[0][0]']          \n",
      "                                                                                                  \n",
      " conv2d_15 (Conv2D)             (None, 64, 64, 64)   36928       ['conv2d_14[0][0]']              \n",
      "                                                                                                  \n",
      " conv2d_transpose_3 (Conv2DTran  (None, 128, 128, 32  8224       ['conv2d_15[0][0]']              \n",
      " spose)                         )                                                                 \n",
      "                                                                                                  \n",
      " concatenate_3 (Concatenate)    (None, 128, 128, 64  0           ['conv2d_transpose_3[0][0]',     \n",
      "                                )                                 'conv2d_1[0][0]']               \n",
      "                                                                                                  \n",
      " conv2d_16 (Conv2D)             (None, 128, 128, 32  18464       ['concatenate_3[0][0]']          \n",
      "                                )                                                                 \n",
      "                                                                                                  \n",
      " conv2d_17 (Conv2D)             (None, 128, 128, 32  9248        ['conv2d_16[0][0]']              \n",
      "                                )                                                                 \n",
      "                                                                                                  \n",
      " conv2d_18 (Conv2D)             (None, 128, 128, 1)  33          ['conv2d_17[0][0]']              \n",
      "                                                                                                  \n",
      "==================================================================================================\n",
      "Total params: 7,759,521\n",
      "Trainable params: 7,759,521\n",
      "Non-trainable params: 0\n",
      "__________________________________________________________________________________________________\n"
     ]
    },
    {
     "name": "stderr",
     "output_type": "stream",
     "text": [
      "/anaconda/envs/azureml_py38_PT_TF/lib/python3.8/site-packages/keras/optimizers/optimizer_v2/adam.py:110: UserWarning: The `lr` argument is deprecated, use `learning_rate` instead.\n",
      "  super(Adam, self).__init__(name, **kwargs)\n"
     ]
    }
   ],
   "source": [
    "# compile the model\n",
    "model.summary()\n",
    "model.compile(optimizer = Adam(lr = 1e-5), loss = dice_coef_loss, metrics = [my_iou, 'binary_accuracy'])"
   ]
  },
  {
   "cell_type": "code",
   "execution_count": 25,
   "id": "8815579c-e281-4b3e-835b-a346328cf64d",
   "metadata": {},
   "outputs": [
    {
     "name": "stdout",
     "output_type": "stream",
     "text": [
      "Epoch 1/40\n"
     ]
    },
    {
     "name": "stderr",
     "output_type": "stream",
     "text": [
      "2022-08-22 22:43:15.156509: I tensorflow/stream_executor/cuda/cuda_dnn.cc:384] Loaded cuDNN version 8201\n",
      "2022-08-22 22:43:15.532140: I tensorflow/core/platform/default/subprocess.cc:304] Start cannot spawn child process: No such file or directory\n"
     ]
    },
    {
     "name": "stdout",
     "output_type": "stream",
     "text": [
      "134/134 [==============================] - 60s 390ms/step - loss: -0.5767 - my_iou: 0.5181 - binary_accuracy: 0.4799 - val_loss: -0.8607 - val_my_iou: 0.8421 - val_binary_accuracy: 0.0852\n",
      "Epoch 2/40\n",
      "134/134 [==============================] - 48s 358ms/step - loss: -0.9199 - my_iou: 0.9398 - binary_accuracy: 0.2164 - val_loss: -1.0052 - val_my_iou: 1.0789 - val_binary_accuracy: 0.3249\n",
      "Epoch 3/40\n",
      "134/134 [==============================] - 47s 355ms/step - loss: -1.0148 - my_iou: 1.1187 - binary_accuracy: 0.4203 - val_loss: -1.0465 - val_my_iou: 1.1586 - val_binary_accuracy: 0.5148\n",
      "Epoch 4/40\n",
      "134/134 [==============================] - 48s 355ms/step - loss: -1.0386 - my_iou: 1.1718 - binary_accuracy: 0.4969 - val_loss: -1.0589 - val_my_iou: 1.1924 - val_binary_accuracy: 0.5227\n",
      "Epoch 5/40\n",
      "134/134 [==============================] - 48s 356ms/step - loss: -1.0461 - my_iou: 1.1963 - binary_accuracy: 0.5031 - val_loss: -1.0617 - val_my_iou: 1.2018 - val_binary_accuracy: 0.4995\n",
      "Epoch 6/40\n",
      "134/134 [==============================] - 48s 357ms/step - loss: -1.0446 - my_iou: 1.1885 - binary_accuracy: 0.5020 - val_loss: -1.0610 - val_my_iou: 1.2015 - val_binary_accuracy: 0.4848\n",
      "Epoch 7/40\n",
      "134/134 [==============================] - 48s 358ms/step - loss: -1.0425 - my_iou: 1.2081 - binary_accuracy: 0.5023 - val_loss: -1.0653 - val_my_iou: 1.2084 - val_binary_accuracy: 0.5257\n",
      "Epoch 8/40\n",
      "134/134 [==============================] - 48s 360ms/step - loss: -1.0589 - my_iou: 1.2104 - binary_accuracy: 0.5240 - val_loss: -1.0672 - val_my_iou: 1.2167 - val_binary_accuracy: 0.5196\n",
      "Epoch 9/40\n",
      "134/134 [==============================] - 48s 362ms/step - loss: -1.0445 - my_iou: 1.2149 - binary_accuracy: 0.5167 - val_loss: -1.0675 - val_my_iou: 1.2192 - val_binary_accuracy: 0.5011\n",
      "Epoch 10/40\n",
      "134/134 [==============================] - 49s 364ms/step - loss: -1.0652 - my_iou: 1.2254 - binary_accuracy: 0.5210 - val_loss: -1.0675 - val_my_iou: 1.2188 - val_binary_accuracy: 0.5407\n",
      "Epoch 11/40\n",
      "134/134 [==============================] - 49s 365ms/step - loss: -1.0657 - my_iou: 1.2318 - binary_accuracy: 0.5260 - val_loss: -1.0695 - val_my_iou: 1.2253 - val_binary_accuracy: 0.5301\n",
      "Epoch 12/40\n",
      "134/134 [==============================] - 49s 364ms/step - loss: -1.0679 - my_iou: 1.2357 - binary_accuracy: 0.5236 - val_loss: -1.0708 - val_my_iou: 1.2273 - val_binary_accuracy: 0.5591\n",
      "Epoch 13/40\n",
      "134/134 [==============================] - 49s 365ms/step - loss: -1.0608 - my_iou: 1.2364 - binary_accuracy: 0.5383 - val_loss: -1.0748 - val_my_iou: 1.2347 - val_binary_accuracy: 0.5532\n",
      "Epoch 14/40\n",
      "134/134 [==============================] - 49s 365ms/step - loss: -1.0663 - my_iou: 1.2534 - binary_accuracy: 0.5270 - val_loss: -1.0777 - val_my_iou: 1.2477 - val_binary_accuracy: 0.5232\n",
      "Epoch 15/40\n",
      "134/134 [==============================] - 49s 366ms/step - loss: -1.0740 - my_iou: 1.2574 - binary_accuracy: 0.5388 - val_loss: -1.0817 - val_my_iou: 1.2588 - val_binary_accuracy: 0.5255\n",
      "Epoch 16/40\n",
      "134/134 [==============================] - 49s 367ms/step - loss: -1.0763 - my_iou: 1.2702 - binary_accuracy: 0.5369 - val_loss: -1.0847 - val_my_iou: 1.2664 - val_binary_accuracy: 0.5369\n",
      "Epoch 17/40\n",
      "134/134 [==============================] - 50s 370ms/step - loss: -1.0935 - my_iou: 1.3137 - binary_accuracy: 0.5932 - val_loss: -1.1034 - val_my_iou: 1.3218 - val_binary_accuracy: 0.6444\n",
      "Epoch 18/40\n",
      "134/134 [==============================] - 49s 369ms/step - loss: -1.1278 - my_iou: 1.3971 - binary_accuracy: 0.6397 - val_loss: -1.1212 - val_my_iou: 1.3700 - val_binary_accuracy: 0.5853\n",
      "Epoch 19/40\n",
      "134/134 [==============================] - 50s 370ms/step - loss: -1.1205 - my_iou: 1.3946 - binary_accuracy: 0.6401 - val_loss: -1.1268 - val_my_iou: 1.3799 - val_binary_accuracy: 0.6086\n",
      "Epoch 20/40\n",
      "134/134 [==============================] - 50s 370ms/step - loss: -1.1235 - my_iou: 1.4152 - binary_accuracy: 0.6404 - val_loss: -1.1162 - val_my_iou: 1.3462 - val_binary_accuracy: 0.7012\n",
      "Epoch 21/40\n",
      "134/134 [==============================] - 49s 368ms/step - loss: -1.1427 - my_iou: 1.4426 - binary_accuracy: 0.6637 - val_loss: -1.1191 - val_my_iou: 1.3588 - val_binary_accuracy: 0.6466\n",
      "Epoch 22/40\n",
      "134/134 [==============================] - 49s 369ms/step - loss: -1.1429 - my_iou: 1.4656 - binary_accuracy: 0.6503 - val_loss: -1.1229 - val_my_iou: 1.3673 - val_binary_accuracy: 0.6642\n",
      "Epoch 23/40\n",
      "134/134 [==============================] - 50s 370ms/step - loss: -1.1373 - my_iou: 1.4380 - binary_accuracy: 0.6550 - val_loss: -1.1143 - val_my_iou: 1.3527 - val_binary_accuracy: 0.5600\n",
      "Epoch 24/40\n",
      "134/134 [==============================] - 49s 369ms/step - loss: -1.1485 - my_iou: 1.4637 - binary_accuracy: 0.6414 - val_loss: -1.1222 - val_my_iou: 1.3594 - val_binary_accuracy: 0.6772\n",
      "Epoch 25/40\n",
      "134/134 [==============================] - 50s 371ms/step - loss: -1.1396 - my_iou: 1.4605 - binary_accuracy: 0.6409 - val_loss: -1.1300 - val_my_iou: 1.3855 - val_binary_accuracy: 0.6787\n",
      "Epoch 26/40\n",
      "134/134 [==============================] - 49s 370ms/step - loss: -1.1473 - my_iou: 1.4669 - binary_accuracy: 0.6412 - val_loss: -1.1319 - val_my_iou: 1.3888 - val_binary_accuracy: 0.6755\n",
      "Epoch 27/40\n",
      "134/134 [==============================] - 50s 370ms/step - loss: -1.1492 - my_iou: 1.4567 - binary_accuracy: 0.6617 - val_loss: -1.1307 - val_my_iou: 1.3923 - val_binary_accuracy: 0.6952\n",
      "Epoch 28/40\n",
      "134/134 [==============================] - 49s 370ms/step - loss: -1.1481 - my_iou: 1.4682 - binary_accuracy: 0.6453 - val_loss: -1.1367 - val_my_iou: 1.4134 - val_binary_accuracy: 0.6411\n",
      "Epoch 29/40\n",
      "134/134 [==============================] - 49s 370ms/step - loss: -1.1515 - my_iou: 1.4912 - binary_accuracy: 0.6470 - val_loss: -1.1328 - val_my_iou: 1.3994 - val_binary_accuracy: 0.6683\n",
      "Epoch 30/40\n",
      "134/134 [==============================] - 50s 370ms/step - loss: -1.1604 - my_iou: 1.5022 - binary_accuracy: 0.6575 - val_loss: -1.1391 - val_my_iou: 1.4126 - val_binary_accuracy: 0.6417\n",
      "Epoch 31/40\n",
      "134/134 [==============================] - 49s 370ms/step - loss: -1.1578 - my_iou: 1.4886 - binary_accuracy: 0.6517 - val_loss: -1.1300 - val_my_iou: 1.3876 - val_binary_accuracy: 0.6765\n",
      "Epoch 32/40\n",
      "134/134 [==============================] - 49s 370ms/step - loss: -1.1484 - my_iou: 1.4919 - binary_accuracy: 0.6584 - val_loss: -1.1186 - val_my_iou: 1.3665 - val_binary_accuracy: 0.7083\n",
      "Epoch 33/40\n",
      "134/134 [==============================] - 49s 369ms/step - loss: -1.1354 - my_iou: 1.4656 - binary_accuracy: 0.6526 - val_loss: -1.1207 - val_my_iou: 1.3636 - val_binary_accuracy: 0.6801\n",
      "Epoch 34/40\n",
      "134/134 [==============================] - 50s 370ms/step - loss: -1.1501 - my_iou: 1.5186 - binary_accuracy: 0.6546 - val_loss: -1.1390 - val_my_iou: 1.4196 - val_binary_accuracy: 0.6409\n",
      "Epoch 35/40\n",
      "134/134 [==============================] - 49s 369ms/step - loss: -1.1633 - my_iou: 1.5044 - binary_accuracy: 0.6545 - val_loss: -1.1383 - val_my_iou: 1.4145 - val_binary_accuracy: 0.6378\n",
      "Epoch 36/40\n",
      "134/134 [==============================] - 49s 369ms/step - loss: -1.1431 - my_iou: 1.4664 - binary_accuracy: 0.6638 - val_loss: -1.1415 - val_my_iou: 1.4313 - val_binary_accuracy: 0.6471\n",
      "Epoch 37/40\n",
      "134/134 [==============================] - 49s 369ms/step - loss: -1.1590 - my_iou: 1.5049 - binary_accuracy: 0.6606 - val_loss: -1.1392 - val_my_iou: 1.4221 - val_binary_accuracy: 0.6438\n",
      "Epoch 38/40\n",
      "134/134 [==============================] - 49s 369ms/step - loss: -1.1534 - my_iou: 1.4865 - binary_accuracy: 0.6512 - val_loss: -1.1375 - val_my_iou: 1.4212 - val_binary_accuracy: 0.6457\n",
      "Epoch 39/40\n",
      "134/134 [==============================] - 49s 370ms/step - loss: -1.1614 - my_iou: 1.5023 - binary_accuracy: 0.6432 - val_loss: -1.1334 - val_my_iou: 1.4047 - val_binary_accuracy: 0.6974\n",
      "Epoch 40/40\n",
      "134/134 [==============================] - 49s 369ms/step - loss: -1.1570 - my_iou: 1.5068 - binary_accuracy: 0.6555 - val_loss: -1.1366 - val_my_iou: 1.4197 - val_binary_accuracy: 0.6970\n"
     ]
    }
   ],
   "source": [
    "# train the model\n",
    "history=model.fit(x_train, \n",
    "          y_train,\n",
    "          batch_size=50, \n",
    "          epochs=40,\n",
    "          verbose=1,\n",
    "          validation_data=(x_val, y_val))"
   ]
  },
  {
   "cell_type": "code",
   "execution_count": null,
   "id": "50ea2ecc-8db5-4e28-9c25-1669d8267a5a",
   "metadata": {},
   "outputs": [],
   "source": []
  },
  {
   "cell_type": "code",
   "execution_count": 26,
   "id": "976d71c7-179e-4c72-976b-ce1496a9f9ac",
   "metadata": {},
   "outputs": [
    {
     "data": {
      "image/png": "[encoded data removed]",
      "text/plain": [
       "<Figure size 432x288 with 1 Axes>"
      ]
     },
     "metadata": {
      "needs_background": "light"
     },
     "output_type": "display_data"
    }
   ],
   "source": [
    "loss = history.history['loss']\n",
    "val_loss = history.history['val_loss']\n",
    "epochs = range(1, len(loss) + 1)\n",
    "plt.plot(epochs, loss, 'y', label='Training loss')\n",
    "plt.plot(epochs, val_loss, 'r', label='Validation loss')\n",
    "plt.title('Training and validation loss')\n",
    "plt.xlabel('Epochs')\n",
    "plt.ylabel('Loss')\n",
    "plt.legend()\n",
    "plt.savefig('seg-loss.png')\n",
    "plt.show()"
   ]
  },
  {
   "cell_type": "code",
   "execution_count": 27,
   "id": "6c4d51bc-e9ad-45db-bdcc-ea9c3f95a1f6",
   "metadata": {},
   "outputs": [
    {
     "data": {
      "image/png": "[encoded data removed]",
      "text/plain": [
       "<Figure size 432x288 with 1 Axes>"
      ]
     },
     "metadata": {
      "needs_background": "light"
     },
     "output_type": "display_data"
    }
   ],
   "source": [
    "iou = history.history['my_iou']\n",
    "epochs = range(1, len(iou) + 1)\n",
    "plt.plot(epochs, iou, 'y', label='IoU')\n",
    "plt.title('IoU for training dataset')\n",
    "plt.xlabel('Epochs')\n",
    "plt.ylabel('IoU')\n",
    "plt.legend()\n",
    "plt.savefig('seg-IoU.png')\n",
    "plt.show()"
   ]
  },
  {
   "cell_type": "code",
   "execution_count": 28,
   "id": "98601478-60f2-40d4-88d6-c4126b79dc70",
   "metadata": {},
   "outputs": [
    {
     "data": {
      "image/png": "[encoded data removed]",
      "text/plain": [
       "<Figure size 432x288 with 1 Axes>"
      ]
     },
     "metadata": {
      "needs_background": "light"
     },
     "output_type": "display_data"
    }
   ],
   "source": [
    "acc = history.history['binary_accuracy']\n",
    "val_acc = history.history['val_binary_accuracy']\n",
    "epochs = range(1, len(acc) + 1)\n",
    "plt.plot(epochs, acc, 'y', label='Training accuracy')\n",
    "plt.plot(epochs, val_acc, 'r', label='Validation accuracy')\n",
    "plt.title('Training and validation Accuracy')\n",
    "plt.xlabel('Epochs')\n",
    "plt.ylabel('Accuracy')\n",
    "plt.legend()\n",
    "plt.savefig('seg-accuracy.png')\n",
    "plt.show()"
   ]
  },
  {
   "cell_type": "code",
   "execution_count": 29,
   "id": "cd63e49c-0881-4db8-972e-7fb2eb7da3e1",
   "metadata": {},
   "outputs": [
    {
     "name": "stdout",
     "output_type": "stream",
     "text": [
      "\u001b[0m\u001b[01;32mIoU.png\u001b[0m*          \u001b[01;32mUntitled2.ipynb\u001b[0m*  \u001b[01;32mseg-accuracy.png\u001b[0m*  \u001b[34;42msegmentation_service\u001b[0m/\n",
      "\u001b[01;32mUntitled.ipynb\u001b[0m*   \u001b[01;32mloss.png\u001b[0m*         \u001b[01;32mseg-loss.png\u001b[0m*      \u001b[34;42mtest\u001b[0m/\n",
      "\u001b[01;32mUntitled1.ipynb\u001b[0m*  \u001b[01;32mseg-IoU.png\u001b[0m*      \u001b[01;32mseg_model-1.h5\u001b[0m*    \u001b[34;42mtrain\u001b[0m/\n"
     ]
    }
   ],
   "source": [
    "ls"
   ]
  },
  {
   "cell_type": "code",
   "execution_count": 30,
   "id": "e8cdc6ff-1a58-462a-9d4a-222f45f89cb0",
   "metadata": {},
   "outputs": [
    {
     "data": {
      "text/plain": [
       "'/mnt/batch/tasks/shared/LS_root/mounts/clusters/segmodel/code/dataset'"
      ]
     },
     "execution_count": 30,
     "metadata": {},
     "output_type": "execute_result"
    }
   ],
   "source": [
    "os.path.dirname(os.path.abspath(\"__file__\"))"
   ]
  },
  {
   "cell_type": "code",
   "execution_count": 31,
   "id": "32fdc65d-a856-4979-8468-b7e26a0e49f7",
   "metadata": {},
   "outputs": [],
   "source": [
    "from azure.storage.blob import BlobServiceClient,BlobClient, ContainerClient\n",
    "import os\n",
    "ABS_PATH = os.path.dirname(os.path.abspath(\"__file__\"))\n",
    "seg_loss_file_name='seg-loss.png'\n",
    "seg_loss_file_name_path=ABS_PATH+'/seg-loss.png'\n",
    "seg_accuracy_file_name='seg-accuracy.png'\n",
    "seg_accuracy_file_name_path=ABS_PATH+'/seg-accuracy.png'\n",
    "upload_container_name = \"uploadpictures\"\n",
    "connect_str=\"DefaultEndpointsProtocol=https;AccountName=phnpictures;AccountKey=Y/cxu5MaNquYVS92Gp+J4hcgxt1jhBpws31SYJc9bYgNdcJYESgU2NulYmPMIujZZVoHdk1C0an/+AStCRPElQ==;EndpointSuffix=core.windows.net\"\n",
    "\n",
    "def upload_pictures_to_blob(container_name,file_name,file_path):\n",
    "    blob_service_client = BlobServiceClient.from_connection_string(connect_str)\n",
    "    blob_client=blob_service_client.get_blob_client(container=container_name,blob= file_name)\n",
    "    with open(file_path, \"rb\") as data:\n",
    "        blob_client.upload_blob(data,overwrite=True)\n",
    "\n",
    "upload_pictures_to_blob(upload_container_name,seg_loss_file_name,seg_loss_file_name_path)\n",
    "upload_pictures_to_blob(upload_container_name,seg_accuracy_file_name,seg_accuracy_file_name_path)"
   ]
  },
  {
   "cell_type": "code",
   "execution_count": 32,
   "id": "127dfbf7-97eb-438b-b06e-8c81f5eb4bbe",
   "metadata": {},
   "outputs": [
    {
     "name": "stdout",
     "output_type": "stream",
     "text": [
      "acc: 0.6555302143096924\n",
      "iou: 1.5067507028579712\n"
     ]
    },
    {
     "name": "stderr",
     "output_type": "stream",
     "text": [
      "/tmp/ipykernel_454718/2897775612.py:3: DeprecationWarning: `np.float` is a deprecated alias for the builtin `float`. To silence this warning, use `float` by itself. Doing this will not modify any behavior and is safe. If you specifically wanted the numpy scalar type, use `np.float64` here.\n",
      "Deprecated in NumPy 1.20; for more details and guidance: https://numpy.org/devdocs/release/1.20.0-notes.html#deprecations\n",
      "  run.log('Accuracy', np.float(history.history['binary_accuracy'][39]))\n",
      "/tmp/ipykernel_454718/2897775612.py:4: DeprecationWarning: `np.float` is a deprecated alias for the builtin `float`. To silence this warning, use `float` by itself. Doing this will not modify any behavior and is safe. If you specifically wanted the numpy scalar type, use `np.float64` here.\n",
      "Deprecated in NumPy 1.20; for more details and guidance: https://numpy.org/devdocs/release/1.20.0-notes.html#deprecations\n",
      "  run.log('IOU', np.float(history.history['my_iou'][39]))\n"
     ]
    }
   ],
   "source": [
    "print(\"acc:\", history.history['binary_accuracy'][39])\n",
    "print(\"iou:\", history.history['my_iou'][39])\n",
    "run.log('Accuracy', np.float(history.history['binary_accuracy'][39]))\n",
    "run.log('IOU', np.float(history.history['my_iou'][39]))"
   ]
  },
  {
   "cell_type": "code",
   "execution_count": 33,
   "id": "2c12823a-de4f-484c-948f-d3d3f74fa089",
   "metadata": {},
   "outputs": [
    {
     "data": {
      "text/plain": [
       "<azureml._restclient.models.batch_artifact_content_information_dto.BatchArtifactContentInformationDto at 0x7f756026ab80>"
      ]
     },
     "execution_count": 33,
     "metadata": {},
     "output_type": "execute_result"
    }
   ],
   "source": [
    "# Save the trained model\n",
    "model_file = 'seg_model-1.h5'\n",
    "model.save('seg_model-1.h5')\n",
    "run.upload_file(name = 'outputs/' + model_file, path_or_stream = './' + model_file)"
   ]
  },
  {
   "cell_type": "code",
   "execution_count": 34,
   "id": "913a3b78-34b7-4528-8853-0ea5594124f6",
   "metadata": {},
   "outputs": [],
   "source": [
    "# Complete the run\n",
    "run.complete()"
   ]
  },
  {
   "cell_type": "code",
   "execution_count": 35,
   "id": "c5e0184f-9d91-4638-a1fe-f17a531e8850",
   "metadata": {},
   "outputs": [
    {
     "name": "stdout",
     "output_type": "stream",
     "text": [
      "Model trained and registered.\n"
     ]
    }
   ],
   "source": [
    "# Register the model\n",
    "run.register_model(model_path='outputs/seg_model-1.h5', \n",
    "                   model_name='seg_model-1',\n",
    "                   tags={'Training context':'Inline Training'},\n",
    "                   properties={'my_iou': run.get_metrics()['IOU'],'binary_accuracy': run.get_metrics()['Accuracy']}\n",
    "                   )\n",
    "#\n",
    "print('Model trained and registered.')"
   ]
  },
  {
   "cell_type": "code",
   "execution_count": 36,
   "id": "ea8979e7-be13-4d33-b35e-a59dd03101df",
   "metadata": {},
   "outputs": [
    {
     "name": "stdout",
     "output_type": "stream",
     "text": [
      "seg_model-1 version: 3\n",
      "\t Training context : Inline Training\n",
      "\t my_iou : 1.5067507028579712\n",
      "\t binary_accuracy : 0.6555302143096924\n",
      "\n",
      "\n",
      "seg_model-1 version: 2\n",
      "\t Training context : Inline Training\n",
      "\t my_iou : 1.4343639612197876\n",
      "\t binary_accuracy : 0.6266193985939026\n",
      "\n",
      "\n",
      "seg_model-1 version: 1\n",
      "\t Training context : Inline Training\n",
      "\t my_iou : [1.5132300853729248, 1.5132300853729248]\n",
      "\t binary_accuracy : [0.6529854536056519, 0.6529854536056519]\n",
      "\n",
      "\n"
     ]
    }
   ],
   "source": [
    "from azureml.core import Model\n",
    "\n",
    "for model in Model.list(ws):\n",
    "    print(model.name, 'version:', model.version)\n",
    "    for tag_name in model.tags:\n",
    "        tag = model.tags[tag_name]\n",
    "        print ('\\t',tag_name, ':', tag)\n",
    "    for prop_name in model.properties:\n",
    "        prop = model.properties[prop_name]\n",
    "        print ('\\t',prop_name, ':', prop)\n",
    "    print('\\n')"
   ]
  },
  {
   "cell_type": "code",
   "execution_count": 37,
   "id": "b770d96b-c76b-4837-8f46-7d0fbf982ed8",
   "metadata": {},
   "outputs": [
    {
     "name": "stdout",
     "output_type": "stream",
     "text": [
      "seg_model-1 version 3\n"
     ]
    }
   ],
   "source": [
    "model = ws.models['seg_model-1']\n",
    "print(model.name, 'version', model.version)"
   ]
  },
  {
   "cell_type": "code",
   "execution_count": 38,
   "id": "cb6f7a28-a639-4cb3-a13d-7af13f1085d8",
   "metadata": {},
   "outputs": [
    {
     "name": "stdout",
     "output_type": "stream",
     "text": [
      "./segmentation_service folder created.\n"
     ]
    }
   ],
   "source": [
    "import os\n",
    "\n",
    "# Create a folder for the deployment files\n",
    "deployment_folder = './segmentation_service'\n",
    "os.makedirs(deployment_folder, exist_ok=True)\n",
    "print(deployment_folder, 'folder created.')\n",
    "\n",
    "# Set path for scoring script\n",
    "script_file = 'score_pneumothorax.py'\n",
    "script_path = os.path.join(deployment_folder,script_file)"
   ]
  },
  {
   "cell_type": "code",
   "execution_count": 39,
   "id": "1aa88eaf-ac36-4769-b8c6-258ea1b19912",
   "metadata": {},
   "outputs": [
    {
     "name": "stdout",
     "output_type": "stream",
     "text": [
      "Overwriting ./segmentation_service/score_pneumothorax.py\n"
     ]
    }
   ],
   "source": [
    "%%writefile $script_path\n",
    "import json\n",
    "import numpy as np\n",
    "import os\n",
    "from tensorflow import keras\n",
    "import tensorflow as tf\n",
    "\n",
    "\n",
    "def init():\n",
    "    global model\n",
    "    print(\"init start\")\n",
    "    # Get the path to the deployed model file and load it\n",
    "    model_path = os.path.join(os.getenv('AZUREML_MODEL_DIR'), 'seg_model-1.h5')  \n",
    "    model = tf.keras.models.load_model(model_path, compile=False)    \n",
    "\n",
    "def run(raw_data):\n",
    "    data = np.array(json.loads(raw_data)[\"data\"])\n",
    "    y_hat = model.predict(data)\n",
    "\n",
    "    return y_hat.tolist()"
   ]
  },
  {
   "cell_type": "code",
   "execution_count": 40,
   "id": "04b699ea-70b6-49ec-8cd3-a7e8fd843981",
   "metadata": {},
   "outputs": [],
   "source": [
    "from azureml.core import Environment\n",
    "from azureml.core.model import InferenceConfig\n",
    "from azureml.core.webservice import AciWebservice\n",
    "from azureml.automl.core.shared import constants\n",
    "\n",
    "service_env = Environment(name='service-env-4')\n",
    "python_packages = [ 'azureml-defaults', 'azure-ml-api-sdk','azureml-sdk','tensorflow-gpu==2.9.1','matplotlib','joblib','numpy']\n",
    "for package in python_packages:\n",
    "    service_env.python.conda_dependencies.add_pip_package(package)\n",
    "\n",
    "inference_config = InferenceConfig(source_directory=deployment_folder,\n",
    "                                   entry_script=script_file,\n",
    "                                   environment=service_env)\n",
    "\n",
    "# Configure the web service container\n",
    "deployment_config = AciWebservice.deploy_configuration(cpu_cores=1, memory_gb=1)"
   ]
  },
  {
   "cell_type": "code",
   "execution_count": 41,
   "id": "1fdf03cd-95f0-47db-b500-116b0456d4e4",
   "metadata": {},
   "outputs": [
    {
     "name": "stdout",
     "output_type": "stream",
     "text": [
      "Deploying model...\n",
      "Tips: You can try get_logs(): https://aka.ms/debugimage#dockerlog or local deployment: https://aka.ms/debugimage#debug-locally to debug if deployment takes longer than 10 minutes.\n",
      "Running\n",
      "2022-08-22 23:16:16+00:00 Creating Container Registry if not exists.\n",
      "2022-08-22 23:16:16+00:00 Registering the environment.\n",
      "2022-08-22 23:16:17+00:00 Use the existing image.\n",
      "2022-08-22 23:16:18+00:00 Generating deployment configuration.\n",
      "2022-08-22 23:16:19+00:00 Submitting deployment to compute.\n",
      "2022-08-22 23:16:22+00:00 Checking the status of deployment segmentation-service-7..\n",
      "2022-08-22 23:20:11+00:00 Checking the status of inference endpoint segmentation-service-7.\n",
      "Succeeded\n",
      "ACI service creation operation finished, operation \"Succeeded\"\n",
      "Healthy\n"
     ]
    }
   ],
   "source": [
    "# Deploy the model as a service\n",
    "print('Deploying model...')\n",
    "service_name = \"segmentation-service-7\"\n",
    "service = Model.deploy(ws, service_name, [model], inference_config, deployment_config, overwrite=True)\n",
    "#service = Model.deploy(ws, \"local-test\", [model], inference_config, deployment_config, overwrite=True)\n",
    "service.wait_for_deployment(True)\n",
    "print(service.state)"
   ]
  },
  {
   "cell_type": "code",
   "execution_count": 42,
   "id": "f41101cc-777f-412d-8c8e-b71345b589b1",
   "metadata": {},
   "outputs": [],
   "source": [
    "endpoint = service.scoring_uri"
   ]
  },
  {
   "cell_type": "code",
   "execution_count": 43,
   "id": "4007f19a-5974-4745-ba08-62b874f11db3",
   "metadata": {},
   "outputs": [
    {
     "name": "stdout",
     "output_type": "stream",
     "text": [
      "http://f9653bf0-ca9b-4dd4-96bc-c2ce619bfd3d.westeurope.azurecontainer.io/score\n"
     ]
    }
   ],
   "source": [
    "print(endpoint)"
   ]
  },
  {
   "cell_type": "code",
   "execution_count": 44,
   "id": "1377bd39-520a-4127-9df8-14b0f238e99c",
   "metadata": {},
   "outputs": [
    {
     "name": "stdout",
     "output_type": "stream",
     "text": [
      "/bin/bash: /azureml-envs/azureml_ed12fc91d2303c27a81d1a96245ffadd/lib/libtinfo.so.6: no version information available (required by /bin/bash)\n",
      "/bin/bash: /azureml-envs/azureml_ed12fc91d2303c27a81d1a96245ffadd/lib/libtinfo.so.6: no version information available (required by /bin/bash)\n",
      "/bin/bash: /azureml-envs/azureml_ed12fc91d2303c27a81d1a96245ffadd/lib/libtinfo.so.6: no version information available (required by /bin/bash)\n",
      "/bin/bash: /azureml-envs/azureml_ed12fc91d2303c27a81d1a96245ffadd/lib/libtinfo.so.6: no version information available (required by /bin/bash)\n",
      "2022-08-22T23:19:12,432954701+00:00 - iot-server/run \n",
      "2022-08-22T23:19:12,418619028+00:00 - rsyslog/run \n",
      "2022-08-22T23:19:12,432559001+00:00 - nginx/run \n",
      "bash: /azureml-envs/azureml_ed12fc91d2303c27a81d1a96245ffadd/lib/libtinfo.so.6: no version information available (required by bash)\n",
      "2022-08-22T23:19:12,481013008+00:00 - gunicorn/run \n",
      "2022-08-22T23:19:12,494571681+00:00 | gunicorn/run | \n",
      "2022-08-22T23:19:12,506188659+00:00 | gunicorn/run | ###############################################\n",
      "2022-08-22T23:19:12,510594250+00:00 | gunicorn/run | AzureML Container Runtime Information\n",
      "2022-08-22T23:19:12,514217243+00:00 | gunicorn/run | ###############################################\n",
      "2022-08-22T23:19:12,521043030+00:00 | gunicorn/run | \n",
      "2022-08-22T23:19:12,527879817+00:00 | gunicorn/run | \n",
      "2022-08-22T23:19:12,545265183+00:00 | gunicorn/run | AzureML image information: openmpi4.1.0-ubuntu20.04, Materializaton Build:20220708.v2\n",
      "2022-08-22T23:19:12,547945078+00:00 | gunicorn/run | \n",
      "2022-08-22T23:19:12,556028863+00:00 | gunicorn/run | \n",
      "2022-08-22T23:19:12,577299421+00:00 | gunicorn/run | PATH environment variable: /azureml-envs/azureml_ed12fc91d2303c27a81d1a96245ffadd/bin:/opt/miniconda/bin:/usr/local/sbin:/usr/local/bin:/usr/sbin:/usr/bin:/sbin:/bin\n",
      "2022-08-22T23:19:12,580832615+00:00 | gunicorn/run | PYTHONPATH environment variable: \n",
      "2022-08-22T23:19:12,585494506+00:00 | gunicorn/run | \n",
      "2022-08-22T23:19:12,587456602+00:00 | gunicorn/run | Pip Dependencies (before dynamic installation)\n",
      "\n",
      "EdgeHubConnectionString and IOTEDGE_IOTHUBHOSTNAME are not set. Exiting...\n",
      "/bin/bash: /azureml-envs/azureml_ed12fc91d2303c27a81d1a96245ffadd/lib/libtinfo.so.6: no version information available (required by /bin/bash)\n",
      "2022-08-22T23:19:12,892608612+00:00 - iot-server/finish 1 0\n",
      "2022-08-22T23:19:12,894267909+00:00 - Exit code 1 is normal. Not restarting iot-server.\n",
      "absl-py==1.2.0\n",
      "adal==1.2.7\n",
      "applicationinsights==0.11.10\n",
      "argcomplete==2.0.0\n",
      "astunparse==1.6.3\n",
      "attrs==22.1.0\n",
      "azure-common==1.1.28\n",
      "azure-core==1.25.0\n",
      "azure-graphrbac==0.61.1\n",
      "azure-identity==1.7.0\n",
      "azure-mgmt-authorization==2.0.0\n",
      "azure-mgmt-containerregistry==10.0.0\n",
      "azure-mgmt-core==1.3.2\n",
      "azure-mgmt-keyvault==10.1.0\n",
      "azure-mgmt-resource==21.1.0\n",
      "azure-mgmt-storage==20.0.0\n",
      "azure-ml-api-sdk==0.1.0a11\n",
      "azureml-automl-core==1.44.0\n",
      "azureml-core==1.44.0\n",
      "azureml-dataprep==4.2.2\n",
      "azureml-dataprep-native==38.0.0\n",
      "azureml-dataprep-rslex==2.8.1\n",
      "azureml-dataset-runtime==1.44.0\n",
      "azureml-defaults==1.44.0\n",
      "azureml-inference-server-http==0.7.4\n",
      "azureml-pipeline==1.44.0\n",
      "azureml-pipeline-core==1.44.0\n",
      "azureml-pipeline-steps==1.44.0\n",
      "azureml-sdk==1.44.0\n",
      "azureml-telemetry==1.44.0\n",
      "azureml-train-automl-client==1.44.0\n",
      "azureml-train-core==1.44.0\n",
      "azureml-train-restclients-hyperdrive==1.44.0\n",
      "backports.tempfile==1.0\n",
      "backports.weakref==1.0.post1\n",
      "bcrypt==3.2.2\n",
      "cachetools==5.2.0\n",
      "certifi @ file:///opt/conda/conda-bld/certifi_1655968806487/work/certifi\n",
      "cffi==1.15.1\n",
      "charset-normalizer==2.1.1\n",
      "click==8.1.3\n",
      "cloudpickle==2.1.0\n",
      "configparser==3.7.4\n",
      "contextlib2==21.6.0\n",
      "cryptography==37.0.4\n",
      "cycler==0.11.0\n",
      "distro==1.7.0\n",
      "docker==5.0.3\n",
      "dotnetcore2==3.1.23\n",
      "Flask==2.1.3\n",
      "Flask-Cors==3.0.10\n",
      "flatbuffers==1.12\n",
      "fonttools==4.36.0\n",
      "fusepy==3.0.1\n",
      "gast==0.4.0\n",
      "google-api-core==2.8.2\n",
      "google-auth==2.11.0\n",
      "google-auth-oauthlib==0.4.6\n",
      "google-pasta==0.2.0\n",
      "googleapis-common-protos==1.56.4\n",
      "grpcio==1.47.0\n",
      "gunicorn==20.1.0\n",
      "h5py==3.7.0\n",
      "humanfriendly==10.0\n",
      "idna==3.3\n",
      "importlib-metadata==4.12.0\n",
      "importlib-resources==5.9.0\n",
      "inference-schema==1.4.2.1\n",
      "isodate==0.6.1\n",
      "itsdangerous==2.1.2\n",
      "jeepney==0.8.0\n",
      "Jinja2==3.1.2\n",
      "jmespath==1.0.0\n",
      "joblib==1.1.0\n",
      "json-logging-py==0.2\n",
      "jsonpickle==2.2.0\n",
      "jsonschema==4.14.0\n",
      "keras==2.9.0\n",
      "Keras-Preprocessing==1.1.2\n",
      "kiwisolver==1.4.4\n",
      "knack==0.9.0\n",
      "liac-arff==2.5.0\n",
      "libclang==14.0.6\n",
      "Markdown==3.4.1\n",
      "MarkupSafe==2.1.1\n",
      "matplotlib==3.5.3\n",
      "msal==1.18.0\n",
      "msal-extensions==0.3.1\n",
      "msrest==0.7.1\n",
      "msrestazure==0.6.4\n",
      "ndg-httpsclient==0.5.1\n",
      "numpy==1.23.2\n",
      "oauthlib==3.2.0\n",
      "opencensus==0.11.0\n",
      "opencensus-context==0.1.3\n",
      "opencensus-ext-azure==1.1.7\n",
      "opt-einsum==3.3.0\n",
      "packaging==21.3\n",
      "paramiko==2.11.0\n",
      "pathspec==0.9.0\n",
      "Pillow==9.2.0\n",
      "pkginfo==1.8.3\n",
      "pkgutil_resolve_name==1.3.10\n",
      "portalocker==2.5.1\n",
      "protobuf==3.19.4\n",
      "psutil==5.9.1\n",
      "pyarrow==6.0.0\n",
      "pyasn1==0.4.8\n",
      "pyasn1-modules==0.2.8\n",
      "pycparser==2.21\n",
      "Pygments==2.13.0\n",
      "PyJWT==2.4.0\n",
      "PyNaCl==1.5.0\n",
      "pyOpenSSL==22.0.0\n",
      "pyparsing==3.0.9\n",
      "pyrsistent==0.18.1\n",
      "PySocks==1.7.1\n",
      "python-dateutil==2.8.2\n",
      "pytz==2022.2.1\n",
      "PyYAML==6.0\n",
      "requests==2.28.1\n",
      "requests-oauthlib==1.3.1\n",
      "rsa==4.9\n",
      "SecretStorage==3.3.3\n",
      "six==1.16.0\n",
      "tabulate==0.8.10\n",
      "tensorboard==2.9.1\n",
      "tensorboard-data-server==0.6.1\n",
      "tensorboard-plugin-wit==1.8.1\n",
      "tensorflow-estimator==2.9.0\n",
      "tensorflow-gpu==2.9.1\n",
      "tensorflow-io-gcs-filesystem==0.26.0\n",
      "termcolor==1.1.0\n",
      "typing_extensions==4.3.0\n",
      "urllib3==1.26.9\n",
      "websocket-client==1.3.3\n",
      "Werkzeug==2.2.2\n",
      "wrapt==1.12.1\n",
      "zipp==3.8.1\n",
      "\n",
      "2022-08-22T23:19:14,627767270+00:00 | gunicorn/run | \n",
      "2022-08-22T23:19:14,630554864+00:00 | gunicorn/run | ###############################################\n",
      "2022-08-22T23:19:14,635453355+00:00 | gunicorn/run | AzureML Inference Server\n",
      "2022-08-22T23:19:14,637643050+00:00 | gunicorn/run | ###############################################\n",
      "2022-08-22T23:19:14,639429547+00:00 | gunicorn/run | \n",
      "2022-08-22T23:19:17,101854956+00:00 | gunicorn/run | Starting AzureML Inference Server HTTP.\n",
      "\n",
      "Azure ML Inferencing HTTP server v0.7.4\n",
      "\n",
      "\n",
      "Server Settings\n",
      "---------------\n",
      "Entry Script Name: score_pneumothorax.py\n",
      "Model Directory: /var/azureml-app/azureml-models/seg_model-1/3\n",
      "Worker Count: 1\n",
      "Worker Timeout (seconds): 300\n",
      "Server Port: 31311\n",
      "Application Insights Enabled: false\n",
      "Application Insights Key: None\n",
      "Inferencing HTTP server version: azmlinfsrv/0.7.4\n",
      "CORS for the specified origins: None\n",
      "\n",
      "\n",
      "Server Routes\n",
      "---------------\n",
      "Liveness Probe: GET   127.0.0.1:31311/\n",
      "Score:          POST  127.0.0.1:31311/score\n",
      "\n",
      "Starting gunicorn 20.1.0\n",
      "Listening at: http://0.0.0.0:31311 (75)\n",
      "Using worker: sync\n",
      "Booting worker with pid: 129\n",
      "Initializing logger\n",
      "2022-08-22 23:19:18,679 | root | INFO | Starting up app insights client\n",
      "logging socket was found. logging is available.\n",
      "logging socket was found. logging is available.\n",
      "2022-08-22 23:19:18,680 | root | INFO | Starting up app insight hooks\n",
      "2022-08-22 23:19:19.390370: W tensorflow/stream_executor/platform/default/dso_loader.cc:64] Could not load dynamic library 'libcudart.so.11.0'; dlerror: libcudart.so.11.0: cannot open shared object file: No such file or directory; LD_LIBRARY_PATH: /azureml-envs/azureml_ed12fc91d2303c27a81d1a96245ffadd/lib:/azureml-envs/azureml_ed12fc91d2303c27a81d1a96245ffadd/lib:\n",
      "2022-08-22 23:19:19.390458: I tensorflow/stream_executor/cuda/cudart_stub.cc:29] Ignore above cudart dlerror if you do not have a GPU set up on your machine.\n",
      "2022-08-22 23:19:23,684 | root | INFO | Found user script at /var/azureml-app/segmentation_service/score_pneumothorax.py\n",
      "2022-08-22 23:19:23,684 | root | INFO | run() is not decorated. Server will invoke it with the input in JSON string.\n",
      "2022-08-22 23:19:23,685 | root | INFO | Invoking user's init function\n",
      "2022-08-22 23:19:23.789519: W tensorflow/stream_executor/platform/default/dso_loader.cc:64] Could not load dynamic library 'libcuda.so.1'; dlerror: libcuda.so.1: cannot open shared object file: No such file or directory; LD_LIBRARY_PATH: /azureml-envs/azureml_ed12fc91d2303c27a81d1a96245ffadd/lib:/azureml-envs/azureml_ed12fc91d2303c27a81d1a96245ffadd/lib:\n",
      "2022-08-22 23:19:23.793874: W tensorflow/stream_executor/cuda/cuda_driver.cc:269] failed call to cuInit: UNKNOWN ERROR (303)\n",
      "2022-08-22 23:19:23.793959: I tensorflow/stream_executor/cuda/cuda_diagnostics.cc:156] kernel driver does not appear to be running on this host (SandboxHost-637968069881586976): /proc/driver/nvidia/version does not exist\n",
      "2022-08-22 23:19:23.795842: I tensorflow/core/platform/cpu_feature_guard.cc:193] This TensorFlow binary is optimized with oneAPI Deep Neural Network Library (oneDNN) to use the following CPU instructions in performance-critical operations:  AVX2 FMA\n",
      "To enable them in other operations, rebuild TensorFlow with the appropriate compiler flags.\n",
      "00000000-0000-0000-0000-000000000000,init start\n",
      "2022-08-22 23:19:24,760 | root | INFO | Users's init has completed successfully\n",
      "2022-08-22 23:19:24,765 | root | INFO | Swaggers are prepared for the following versions: [2, 3].\n",
      "2022-08-22 23:19:24,766 | root | INFO | Scoring timeout is found from os.environ: 60000 ms\n",
      "2022-08-22 23:19:24,767 | root | INFO | AML_FLASK_ONE_COMPATIBILITY is set. Patched Flask to ensure compatibility with Flask 1.\n",
      "2022-08-22 23:20:11,695 | root | INFO | 200\n",
      "127.0.0.1 - - [22/Aug/2022:23:20:11 +0000] \"GET /swagger.json HTTP/1.0\" 200 2277 \"-\" \"Go-http-client/1.1\"\n",
      "2022-08-22 23:20:16,114 | root | INFO | 200\n",
      "127.0.0.1 - - [22/Aug/2022:23:20:16 +0000] \"GET /swagger.json HTTP/1.0\" 200 2277 \"-\" \"Go-http-client/1.1\"\n",
      "\n"
     ]
    }
   ],
   "source": [
    "print(service.get_logs())"
   ]
  }
 ],
 "metadata": {
  "kernelspec": {
   "display_name": "Python 3.8 - Pytorch and Tensorflow",
   "language": "python",
   "name": "python38-azureml-pt-tf"
  },
  "language_info": {
   "codemirror_mode": {
    "name": "ipython",
    "version": 3
   },
   "file_extension": ".py",
   "mimetype": "text/x-python",
   "name": "python",
   "nbconvert_exporter": "python",
   "pygments_lexer": "ipython3",
   "version": "3.8.13"
  }
 },
 "nbformat": 4,
 "nbformat_minor": 5
}
